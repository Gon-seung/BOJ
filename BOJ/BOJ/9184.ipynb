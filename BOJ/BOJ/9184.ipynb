{
 "cells": [
  {
   "cell_type": "code",
   "execution_count": 12,
   "metadata": {},
   "outputs": [
    {
     "name": "stdout",
     "output_type": "stream",
     "text": [
      "w(10,4,6) = 523\n"
     ]
    }
   ],
   "source": [
    "def w(a,b,c):\r\n",
    "    if (a<=0) | (b<=0) | (c<=0):\r\n",
    "        return 1\r\n",
    "    if (a>20) | (b>20) | (c>20):\r\n",
    "        return w(20,20,20)\r\n",
    "\r\n",
    "    if d[a][b][c]:\r\n",
    "        return  d[a][b][c]   \r\n",
    "\r\n",
    "    if a<b<c:\r\n",
    "        d[a][b][c] = w(a, b, c-1) + w(a, b-1, c-1) - w(a, b-1, c)\r\n",
    "        return  d[a][b][c]  \r\n",
    "\r\n",
    "    else:\r\n",
    "        d[a][b][c] = w(a-1, b, c) + w(a-1, b-1, c) + w(a-1, b, c-1) - w(a-1, b-1, c-1)\r\n",
    "        return  d[a][b][c]          \r\n",
    "\r\n",
    "\r\n",
    "d = [[[0 for _ in range(21)] for _ in range(21)] for _ in range(21)]\r\n",
    "\r\n",
    "while True:\r\n",
    "    a, b, c = map(int, input().split())\r\n",
    "    if (a == -1) & (b==-1) & (c==-1):\r\n",
    "        break \r\n",
    "    result = w(a,b,c)\r\n",
    "    print('w({}, {}, {}) = {}'.format(a,b,c,result))\r\n",
    "\r\n"
   ]
  }
 ],
 "metadata": {
  "interpreter": {
   "hash": "a946e98956bcc838cb00ebe9ef446e2faa648a2fef8d41f146f5c3ea9d8a2e71"
  },
  "kernelspec": {
   "display_name": "Python 3.9.5 64-bit",
   "name": "python3"
  },
  "language_info": {
   "name": "python",
   "version": ""
  },
  "orig_nbformat": 4
 },
 "nbformat": 4,
 "nbformat_minor": 2
}